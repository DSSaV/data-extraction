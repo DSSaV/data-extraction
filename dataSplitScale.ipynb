{
 "cells": [
  {
   "cell_type": "markdown",
   "metadata": {},
   "source": [
    "## IMPORTS"
   ]
  },
  {
   "cell_type": "code",
   "execution_count": 1,
   "metadata": {},
   "outputs": [],
   "source": [
    "import math\n",
    "import numpy as np\n",
    "from sklearn.preprocessing import MinMaxScaler\n",
    "from sklearn.preprocessing import StandardScaler"
   ]
  },
  {
   "cell_type": "markdown",
   "metadata": {},
   "source": [
    "## SPLIT & SCALE FUCNTIONS"
   ]
  },
  {
   "cell_type": "code",
   "execution_count": 2,
   "metadata": {},
   "outputs": [],
   "source": [
    "def train_test_split(df, config):\n",
    "    \n",
    "    #CONVERT DF TO NUMPY ARRAY\n",
    "    rows = df.to_numpy()\n",
    "    \n",
    "    scalerName = config['scalerName']\n",
    "    percentage = config['trainTestPercentage']\n",
    "    splitValue = int(len(df) * percentage)\n",
    "    \n",
    "    scalers = {\n",
    "    'MM': MinMaxScaler,\n",
    "    'SS': StandardScaler\n",
    "    }\n",
    "    \n",
    "\n",
    "    # SCALER\n",
    "    scaler = scalers[scalerName]().fit(rows[:splitValue])\n",
    "    \n",
    "    rows[:splitValue] = scaler.transform(rows[:splitValue])\n",
    "    rows[splitValue:] = scaler.transform(rows[splitValue:])\n",
    "    \n",
    "    # CONTAINERS\n",
    "    features = []\n",
    "    labels = []\n",
    "    \n",
    "    # LOOP THROUGH\n",
    "    for row in rows:\n",
    "        features.append(row[1:])\n",
    "        labels.append(row[0])\n",
    "\n",
    "    x_train, x_test = np.array(features[:splitValue]), np.array(features[splitValue:])\n",
    "    y_train, y_test = np.array(labels[:splitValue]), np.array(labels[splitValue:])\n",
    "\n",
    "    return x_train, x_test, y_train, y_test, scaler"
   ]
  },
  {
   "cell_type": "code",
   "execution_count": 3,
   "metadata": {},
   "outputs": [],
   "source": [
    "def train_test_validate_split(df, config):\n",
    "    \n",
    "    #CONVERT DF TO NUMPY ARRAY\n",
    "    rows = df.to_numpy()\n",
    "    \n",
    "    # PARAMS\n",
    "    scalerName = config['scalerName']\n",
    "    trainPerc = config['trainTestValidate']['train']\n",
    "    testPerc= config['trainTestValidate']['test'] \n",
    "    validatePerc = config['trainTestValidate']['validate'] \n",
    "    \n",
    "    trainValue = int(len(df) * trainPerc)\n",
    "    testValue = int(len(df) * (trainPerc + testPerc))\n",
    "    \n",
    "    scalers = {\n",
    "    'MM': MinMaxScaler,\n",
    "    'SS': StandardScaler\n",
    "    }\n",
    "    \n",
    "    # SCALER\n",
    "    scaler = scalers[scalerName]().fit(rows[:trainValue])\n",
    "    \n",
    "    rows[:trainValue] = scaler.transform(rows[:trainValue]) # scale train\n",
    "    rows[trainValue:] = scaler.transform(rows[trainValue:]) # scale test & validation\n",
    "    \n",
    "    # CONTAINERS\n",
    "    features = []\n",
    "    labels = []\n",
    "    \n",
    "    # LOOP THROUGH\n",
    "    for row in rows:\n",
    "        features.append(row[1:])\n",
    "        labels.append(row[0])\n",
    "    \n",
    "    x_train, x_test, x_validate = np.array(features[:trainValue]), np.array(features[trainValue:testValue]), np.array(features[testValue:])\n",
    "    y_train, y_test, y_validate = np.array(labels[:trainValue]), np.array(labels[trainValue:testValue]),  np.array(labels[testValue:])\n",
    "    \n",
    "    return x_train, x_test, x_validate, y_train, y_test, y_validate, scaler"
   ]
  }
 ],
 "metadata": {
  "kernelspec": {
   "display_name": "Python 3",
   "language": "python",
   "name": "python3"
  },
  "language_info": {
   "codemirror_mode": {
    "name": "ipython",
    "version": 3
   },
   "file_extension": ".py",
   "mimetype": "text/x-python",
   "name": "python",
   "nbconvert_exporter": "python",
   "pygments_lexer": "ipython3",
   "version": "3.7.3"
  }
 },
 "nbformat": 4,
 "nbformat_minor": 2
}
