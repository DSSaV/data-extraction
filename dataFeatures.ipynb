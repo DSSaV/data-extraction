{
 "cells": [
  {
   "cell_type": "markdown",
   "metadata": {},
   "source": [
    "## IMPORTS"
   ]
  },
  {
   "cell_type": "code",
   "execution_count": 1,
   "metadata": {},
   "outputs": [],
   "source": [
    "import pandas as pd\n",
    "import numpy as np\n",
    "from sklearn.preprocessing import MinMaxScaler\n",
    "from sklearn.preprocessing import StandardScaler"
   ]
  },
  {
   "cell_type": "markdown",
   "metadata": {},
   "source": [
    "## FUNCTIONS"
   ]
  },
  {
   "cell_type": "markdown",
   "metadata": {},
   "source": [
    "### Data Features\n",
    "Data features are based on this study: https://www.ncbi.nlm.nih.gov/pmc/articles/PMC4873195/"
   ]
  },
  {
   "cell_type": "markdown",
   "metadata": {},
   "source": [
    "### TYPE 1 FEATURES"
   ]
  },
  {
   "cell_type": "code",
   "execution_count": 2,
   "metadata": {},
   "outputs": [],
   "source": [
    "# Stochastic %K\n",
    "def stochastic_k(df, timeframe=14):\n",
    "    return df.join(pd.Series(100 * ((df['Close'] - df['Low'].rolling(timeframe).min()) / (df['High'].rolling(timeframe).max() - df['Low'].rolling(timeframe).min())), name='stocK'))"
   ]
  },
  {
   "cell_type": "code",
   "execution_count": 3,
   "metadata": {},
   "outputs": [],
   "source": [
    "# Stochastic %D\n",
    "def stochastic_d(df, timeframe=3):\n",
    "    return df.join(pd.Series(df['stocK'].rolling(timeframe).mean(), name='stocD'))"
   ]
  },
  {
   "cell_type": "code",
   "execution_count": 4,
   "metadata": {},
   "outputs": [],
   "source": [
    "# Stochastic slow %D\n",
    "def stochastic_sd(df, timeframe=3):\n",
    "    return df.join(pd.Series(df['stocD'].rolling(timeframe).mean(), name='stocSD'))"
   ]
  },
  {
   "cell_type": "code",
   "execution_count": 5,
   "metadata": {},
   "outputs": [],
   "source": [
    "# Momentum\n",
    "def momentum(df, timeframe=14):\n",
    "    return df.join(pd.Series(df['Close'].diff(timeframe), name='Momentum'))"
   ]
  },
  {
   "cell_type": "code",
   "execution_count": 6,
   "metadata": {},
   "outputs": [],
   "source": [
    "# Rate of change\n",
    "def rate_of_change(df, timeframe):  \n",
    "    return df.join(pd.Series( ((df[\"Close\"] / df[\"Close\"].shift(timeframe)) -1) * 100 , name='ROC') )"
   ]
  },
  {
   "cell_type": "code",
   "execution_count": 7,
   "metadata": {},
   "outputs": [],
   "source": [
    "# Larry William's %R\n",
    "def larry_williams(df, timeframe):\n",
    "    df['Ln'] = df['Low'].rolling(window=timeframe).min()\n",
    "    df['Hn'] = df['High'].rolling(window=timeframe).max()  \n",
    "    return df.join(pd.Series( ( df['Hn'] -df['Close'] ) / (df['Hn'] - df['Ln']) * 100 , name='LWR')).drop(columns=['Ln', 'Hn'])"
   ]
  },
  {
   "cell_type": "code",
   "execution_count": 8,
   "metadata": {},
   "outputs": [],
   "source": [
    "# A/O Oscillator (accumulation/distribution oscillator)\n",
    "def ao_oscillator(df):\n",
    "    return df.join(pd.Series((df['High'] - df['Close'].shift(1) ) / (df['High'] - df['Low']) , name='AOosci'))"
   ]
  },
  {
   "cell_type": "code",
   "execution_count": 9,
   "metadata": {},
   "outputs": [],
   "source": [
    "# Disparity\n",
    "def disparity(df, timeframe):\n",
    "    return df.join(pd.Series(df['Close'] / (df['Close'].rolling(timeframe).sum()/timeframe) * 100, name='Disp' + str(timeframe) ))"
   ]
  },
  {
   "cell_type": "code",
   "execution_count": 10,
   "metadata": {},
   "outputs": [],
   "source": [
    "# Price oscillator\n",
    "def price_oscillator(df):\n",
    "    df['MA5'] = df['Close'].rolling(5).sum()/5\n",
    "    df['MA10'] = df['Close'].rolling(10).sum()/10\n",
    "    return df.join(pd.Series(df['MA5'] - df['MA10']/df['MA5'], name='OSCP')).drop(columns=['MA5', 'MA10'])"
   ]
  },
  {
   "cell_type": "code",
   "execution_count": 11,
   "metadata": {},
   "outputs": [],
   "source": [
    "# Commodity channel index\n",
    "def CCI(df, timeframe):\n",
    "    TP = (df['High'] + df['Low'] + df['Close']) / 3 \n",
    "    return df.join(pd.Series((TP - TP.rolling(timeframe).mean()) / (0.015 * TP.rolling(timeframe).std()), name='CCI'))"
   ]
  },
  {
   "cell_type": "code",
   "execution_count": 12,
   "metadata": {},
   "outputs": [],
   "source": [
    "# Relative strength index\n",
    "def RSI(df, timeframe):\n",
    "    chg = df['Close'].diff(1)\n",
    "    gain = chg.mask(chg<0,0)\n",
    "    #data['gain'] = gain\n",
    "    loss = chg.mask(chg>0,0)\n",
    "    #data['loss'] = loss\n",
    "    avg_gain = gain.ewm(com = timeframe - 1, min_periods = timeframe).mean()\n",
    "    avg_loss = loss.ewm(com = timeframe - 1, min_periods = timeframe).mean()\n",
    "    #data['avg_gain'] = avg_gain\n",
    "    #data['avg_loss'] = avg_loss\n",
    "    rs = abs(avg_gain/avg_loss)\n",
    "    rsi = 100-(100/(1+rs))\n",
    "    \n",
    "    return df.join(pd.Series(rsi,name='RSI'))"
   ]
  },
  {
   "cell_type": "code",
   "execution_count": 13,
   "metadata": {},
   "outputs": [],
   "source": [
    "# Feature addition function\n",
    "def add_type1_features(df, timeframe):\n",
    "    df = stochastic_k(df, timeframe)\n",
    "    df = stochastic_d(df)  # Default as 3 \n",
    "    df = stochastic_sd(df) # Default as 3 \n",
    "    df = momentum(df, timeframe)\n",
    "    df = rate_of_change(df, timeframe)\n",
    "    df = larry_williams(df, timeframe)\n",
    "    df = ao_oscillator(df) # No timeframe\n",
    "    df = disparity(df, 5) # Default as 5 \n",
    "    df = disparity(df, 10) # Default as 10 \n",
    "    df = price_oscillator(df)\n",
    "    df = CCI(df, timeframe)\n",
    "    df = RSI(df, timeframe)\n",
    "    return df"
   ]
  },
  {
   "cell_type": "markdown",
   "metadata": {},
   "source": [
    "### TYPE 2 FEATURES"
   ]
  },
  {
   "cell_type": "code",
   "execution_count": 14,
   "metadata": {},
   "outputs": [],
   "source": [
    "# OBV\n",
    "def obv(df):\n",
    "    df['OBV'] = np.where(df['Close'] > df['Close'].shift(1), df['Volume'], np.where(df['Close'] < df['Close'].shift(1), -df['Volume'], 0)).cumsum()\n",
    "    return df"
   ]
  },
  {
   "cell_type": "code",
   "execution_count": 15,
   "metadata": {},
   "outputs": [],
   "source": [
    "# Moving Average\n",
    "def moving_average(df, timeframe):\n",
    "    return df.join(pd.Series(df['Close'].rolling(timeframe).sum()/timeframe, name='MA'))"
   ]
  },
  {
   "cell_type": "code",
   "execution_count": 16,
   "metadata": {},
   "outputs": [],
   "source": [
    "# BIAS \n",
    "def bias(df, timeframe):\n",
    "    return df.join(pd.Series(( (df['Close'] - (df['Close'].rolling(timeframe).sum()/timeframe) ) / (df['Close'].rolling(timeframe).sum()/timeframe) ) , name='BIAS' + str(timeframe)))"
   ]
  },
  {
   "cell_type": "code",
   "execution_count": 17,
   "metadata": {},
   "outputs": [],
   "source": [
    "# PSY - ratio of the number of rising periods over the n day period\n",
    "def psy(df, timeframe):    \n",
    "    df['A'] = np.where(df['Close'].shift(-1) - df['Close'] >0, 1, 0)\n",
    "    return df.join(round(pd.Series(df['A'].rolling(timeframe).sum()/timeframe * 100, name='PSY' + str(timeframe)),1)).drop(columns=['A'])"
   ]
  },
  {
   "cell_type": "code",
   "execution_count": 18,
   "metadata": {},
   "outputs": [],
   "source": [
    "# SY\n",
    "def sy(df):\n",
    "    return df.join(pd.Series((np.log(df['Close']) - np.log(df['Close'].shift(1))) * 100 , name='SY'))"
   ]
  },
  {
   "cell_type": "code",
   "execution_count": 19,
   "metadata": {},
   "outputs": [],
   "source": [
    "# ASY\n",
    "def asy(df, timeframe):\n",
    "    return df.join(pd.Series(df['SY'].rolling(timeframe).sum()/timeframe, name='ASY' + str(timeframe)))"
   ]
  },
  {
   "cell_type": "code",
   "execution_count": 20,
   "metadata": {},
   "outputs": [],
   "source": [
    "# Feature addition function\n",
    "def add_type2_features(df, timeframe):\n",
    "    df = obv(df)\n",
    "    df = moving_average(df, 5)\n",
    "    df = bias(df, 6) # Default value 6\n",
    "    df = psy(df, 12) # Default value 12\n",
    "    df = sy(df)\n",
    "    df = asy(df, 5) # Default value 5\n",
    "    df = asy(df, 4) # Default value 4\n",
    "    df = asy(df, 3) # Default value 3\n",
    "    df = asy(df, 2) # Default value 2\n",
    "    df = asy(df, 1) # Default value 1\n",
    "    df = df.drop(columns=['SY']) #USED ONLY FOR ASY CALCULATIONS\n",
    "    return df"
   ]
  },
  {
   "cell_type": "markdown",
   "metadata": {},
   "source": [
    "## MAIN FUNCTION"
   ]
  },
  {
   "cell_type": "code",
   "execution_count": 21,
   "metadata": {},
   "outputs": [],
   "source": [
    "def add_features(df, config):\n",
    "    \n",
    "    # EXTRACT PARAMETERS\n",
    "    timeframe = config['window']\n",
    "    features = config['type']\n",
    "    post_filter = config['filter']\n",
    "    \n",
    "    # ADD FEATURES\n",
    "    if(features == 0):\n",
    "        df = add_type1_features(df, timeframe)\n",
    "        df = add_type2_features(df, timeframe)\n",
    "    elif(features == 1):\n",
    "        df = add_type1_features(df, timeframe)\n",
    "    elif(features == 2):\n",
    "        df = add_type2_features(df, timeframe)\n",
    "        \n",
    "    # FILTER AND DROP NA VALUES\n",
    "    \n",
    "    return df.dropna().filter(post_filter)"
   ]
  }
 ],
 "metadata": {
  "kernelspec": {
   "display_name": "Python 3",
   "language": "python",
   "name": "python3"
  },
  "language_info": {
   "codemirror_mode": {
    "name": "ipython",
    "version": 3
   },
   "file_extension": ".py",
   "mimetype": "text/x-python",
   "name": "python",
   "nbconvert_exporter": "python",
   "pygments_lexer": "ipython3",
   "version": "3.7.3"
  }
 },
 "nbformat": 4,
 "nbformat_minor": 2
}
