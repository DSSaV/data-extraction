{
 "cells": [
  {
   "cell_type": "markdown",
   "metadata": {},
   "source": [
    "### IMPORTS"
   ]
  },
  {
   "cell_type": "code",
   "execution_count": 1,
   "metadata": {},
   "outputs": [],
   "source": [
    "import pandas as pd"
   ]
  },
  {
   "cell_type": "markdown",
   "metadata": {},
   "source": [
    "### HELPER FUNCS"
   ]
  },
  {
   "cell_type": "code",
   "execution_count": 5,
   "metadata": {},
   "outputs": [],
   "source": [
    "def process(src):\n",
    "    return pd.read_csv(src, delimiter=',', parse_dates=[[\"Date\", \"Timestamp\"]])"
   ]
  },
  {
   "cell_type": "code",
   "execution_count": 6,
   "metadata": {},
   "outputs": [],
   "source": [
    "def resample(dataframe, time, aggregate):\n",
    "    return dataframe.resample(time, on='Date_Timestamp').agg(aggregate).dropna()"
   ]
  },
  {
   "cell_type": "code",
   "execution_count": 5,
   "metadata": {},
   "outputs": [],
   "source": [
    "def add_label(dataframe, source, jump):\n",
    "    dataframe['label'] = dataframe[source].shift(-jump)\n",
    "    dataframe = dataframe.dropna()\n",
    "    return dataframe"
   ]
  },
  {
   "cell_type": "markdown",
   "metadata": {},
   "source": [
    "### CREATE USABLE DATAFRAME WITH LABEL"
   ]
  },
  {
   "cell_type": "code",
   "execution_count": 1,
   "metadata": {},
   "outputs": [],
   "source": [
    "def create_dataframe(config):\n",
    "    \n",
    "    # PROCESSING PARAMS\n",
    "    params = config['processing']\n",
    "    \n",
    "    # GATHER RAW DATA\n",
    "    dataframe = process(config['data'])\n",
    "    \n",
    "    # RESAMPLE IF REQUESTED\n",
    "    if (params['resample']):\n",
    "        dataframe = resample(\n",
    "            dataframe,\n",
    "            params['time'],\n",
    "            params['aggregate']\n",
    "        )\n",
    "     \n",
    "    # FORCE LOWERCASE IN COLUMNS\n",
    "    #dataframe.columns = dataframe.columns.str.lower()\n",
    "    \n",
    "    # ADD LABEL COLUMN\n",
    "    dataframe = add_label(\n",
    "        dataframe,\n",
    "        params['label']['from'],\n",
    "        params['label']['shift']\n",
    "    )\n",
    "    \n",
    "    return dataframe"
   ]
  },
  {
   "cell_type": "code",
   "execution_count": null,
   "metadata": {},
   "outputs": [],
   "source": []
  }
 ],
 "metadata": {
  "kernelspec": {
   "display_name": "Python 3",
   "language": "python",
   "name": "python3"
  },
  "language_info": {
   "codemirror_mode": {
    "name": "ipython",
    "version": 3
   },
   "file_extension": ".py",
   "mimetype": "text/x-python",
   "name": "python",
   "nbconvert_exporter": "python",
   "pygments_lexer": "ipython3",
   "version": "3.7.9"
  }
 },
 "nbformat": 4,
 "nbformat_minor": 4
}
