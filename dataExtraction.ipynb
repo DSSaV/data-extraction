{
 "cells": [
  {
   "cell_type": "markdown",
   "metadata": {},
   "source": [
    "# DATA-EXTRACTION"
   ]
  },
  {
   "cell_type": "markdown",
   "metadata": {},
   "source": [
    "## IMPORTS"
   ]
  },
  {
   "cell_type": "code",
   "execution_count": 7,
   "metadata": {},
   "outputs": [],
   "source": [
    "import yfinance as yf\n",
    "import pandas as pd\n",
    "import numpy as np\n",
    "from sklearn.preprocessing import MinMaxScaler\n",
    "from sklearn.preprocessing import StandardScaler"
   ]
  },
  {
   "cell_type": "markdown",
   "metadata": {},
   "source": [
    "## FUNCTIONS"
   ]
  },
  {
   "cell_type": "code",
   "execution_count": 8,
   "metadata": {},
   "outputs": [],
   "source": [
    "def fetch_yfinnace(stock, startDate, endDate, interval='1d'):\n",
    "    print(stock)\n",
    "    df = yf.download(stock, start=startDate, end=endDate, interval=interval, group_by='tickers')\n",
    "    df = df.drop(columns=['Adj Close'])\n",
    "    return df"
   ]
  },
  {
   "cell_type": "code",
   "execution_count": 9,
   "metadata": {},
   "outputs": [],
   "source": [
    "def create_label(df, timeframe=-1):\n",
    "    df['Label'] = df['Close'].shift(timeframe)\n",
    "    return df"
   ]
  },
  {
   "cell_type": "code",
   "execution_count": 10,
   "metadata": {},
   "outputs": [],
   "source": [
    "def split_data(percentage, df, dropLabels):\n",
    "    splitValue = int(len(df) * percentage) # Used for calculating the split for test train based on data size\n",
    "    \n",
    "    x = np.array(df.drop(dropLabels, 1)) # Drop all unused columns\n",
    "    y = np.ravel(df.Label) # take only labels\n",
    "\n",
    "    x_train, x_test = x[:splitValue], x[splitValue:]\n",
    "    y_train, y_test = y[:splitValue], y[splitValue:]\n",
    "    \n",
    "    return x_train, x_test, y_train, y_test"
   ]
  },
  {
   "cell_type": "code",
   "execution_count": 11,
   "metadata": {},
   "outputs": [],
   "source": [
    "def MM_Scaler(x_train, x_test):\n",
    "\n",
    "    linearScaler = MinMaxScaler().fit(x_train)\n",
    "\n",
    "    # Scale train and test\n",
    "    x_train = linearScaler.transform(x_train)\n",
    "    x_test = linearScaler.transform(x_test)\n",
    "    return x_train, x_test"
   ]
  },
  {
   "cell_type": "code",
   "execution_count": 12,
   "metadata": {},
   "outputs": [],
   "source": [
    "def standardization(x_train, x_test):\n",
    "    scaler = StandardScaler().fit(x_train)\n",
    "    \n",
    "    # Scale train and test\n",
    "    x_train = scaler.transform(x_train)\n",
    "    x_test = scaler.transform(x_test)\n",
    "    return x_train, x_test"
   ]
  },
  {
   "cell_type": "markdown",
   "metadata": {},
   "source": [
    "### DATA FEATURES\n",
    "\n",
    "Data features are based on this study: https://www.ncbi.nlm.nih.gov/pmc/articles/PMC4873195/"
   ]
  },
  {
   "cell_type": "markdown",
   "metadata": {},
   "source": [
    "### TYPE 1 FEATURES"
   ]
  },
  {
   "cell_type": "code",
   "execution_count": 13,
   "metadata": {},
   "outputs": [],
   "source": [
    "# Stochastic %K\n",
    "def stochastic_k(df, timeframe=14):\n",
    "    return df.join(pd.Series(100 * ((df['Close'] - df['Low'].rolling(timeframe).min()) / (df['High'].rolling(timeframe).max() - df['Low'].rolling(timeframe).min())), name='stocK'))"
   ]
  },
  {
   "cell_type": "code",
   "execution_count": 14,
   "metadata": {},
   "outputs": [],
   "source": [
    "# Stochastic %D\n",
    "def stochastic_d(df, timeframe=3):\n",
    "    return df.join(pd.Series(df['stocK'].rolling(timeframe).mean(), name='stocD'))"
   ]
  },
  {
   "cell_type": "code",
   "execution_count": 15,
   "metadata": {},
   "outputs": [],
   "source": [
    "# Stochastic slow %D\n",
    "def stochastic_sd(df, timeframe=3):\n",
    "    return df.join(pd.Series(df['stocD'].rolling(timeframe).mean(), name='stocSD'))"
   ]
  },
  {
   "cell_type": "code",
   "execution_count": 16,
   "metadata": {},
   "outputs": [],
   "source": [
    "# Momentum\n",
    "def momentum(df, timeframe=14):\n",
    "    return df.join(pd.Series(df['Close'].diff(timeframe), name='Momentum'))"
   ]
  },
  {
   "cell_type": "code",
   "execution_count": 17,
   "metadata": {},
   "outputs": [],
   "source": [
    "# Rate of change\n",
    "def rate_of_change(df, timeframe):  \n",
    "    return df.join(pd.Series( ((df[\"Close\"] / df[\"Close\"].shift(timeframe)) -1) * 100 , name='ROC') )"
   ]
  },
  {
   "cell_type": "code",
   "execution_count": 18,
   "metadata": {},
   "outputs": [],
   "source": [
    "# Larry William's %R\n",
    "def larry_williams(df, timeframe):\n",
    "    df['Ln'] = df['Low'].rolling(window=timeframe).min()\n",
    "    df['Hn'] = df['High'].rolling(window=timeframe).max()  \n",
    "    return df.join(pd.Series( ( df['Hn'] -df['Close'] ) / (df['Hn'] - df['Ln']) * 100 , name='LWR')).drop(columns=['Ln', 'Hn'])"
   ]
  },
  {
   "cell_type": "code",
   "execution_count": 19,
   "metadata": {},
   "outputs": [],
   "source": [
    "# A/O Oscillator (accumulation/distribution oscillator)\n",
    "def ao_oscillator(df):\n",
    "    return df.join(pd.Series((df['High'] - df['Close'].shift(1) ) / (df['High'] - df['Low']) , name='AOosci'))"
   ]
  },
  {
   "cell_type": "code",
   "execution_count": 20,
   "metadata": {},
   "outputs": [],
   "source": [
    "# Disparity\n",
    "def disparity(df, timeframe):\n",
    "    return df.join(pd.Series(df['Close'] / (df['Close'].rolling(timeframe).sum()/timeframe) * 100, name='Disp' + str(timeframe) ))"
   ]
  },
  {
   "cell_type": "code",
   "execution_count": 21,
   "metadata": {},
   "outputs": [],
   "source": [
    "# Price oscillator\n",
    "def price_oscillator(df):\n",
    "    df['MA5'] = df['Close'].rolling(5).sum()/5\n",
    "    df['MA10'] = df['Close'].rolling(10).sum()/10\n",
    "    return df.join(pd.Series(df['MA5'] - df['MA10']/df['MA5'], name='OSCP')).drop(columns=['MA5', 'MA10'])"
   ]
  },
  {
   "cell_type": "code",
   "execution_count": 22,
   "metadata": {},
   "outputs": [],
   "source": [
    "# Commodity channel index\n",
    "def CCI(df, timeframe):\n",
    "    TP = (df['High'] + df['Low'] + df['Close']) / 3 \n",
    "    return df.join(pd.Series((TP - TP.rolling(timeframe).mean()) / (0.015 * TP.rolling(timeframe).std()), name='CCI'))"
   ]
  },
  {
   "cell_type": "code",
   "execution_count": 23,
   "metadata": {},
   "outputs": [],
   "source": [
    "# Relative strength index\n",
    "def RSI(df, timeframe):\n",
    "    chg = df['Close'].diff(1)\n",
    "    gain = chg.mask(chg<0,0)\n",
    "    #data['gain'] = gain\n",
    "    loss = chg.mask(chg>0,0)\n",
    "    #data['loss'] = loss\n",
    "    avg_gain = gain.ewm(com = timeframe - 1, min_periods = timeframe).mean()\n",
    "    avg_loss = loss.ewm(com = timeframe - 1, min_periods = timeframe).mean()\n",
    "    #data['avg_gain'] = avg_gain\n",
    "    #data['avg_loss'] = avg_loss\n",
    "    rs = abs(avg_gain/avg_loss)\n",
    "    rsi = 100-(100/(1+rs))\n",
    "    \n",
    "    return df.join(pd.Series(rsi,name='RSI'))"
   ]
  },
  {
   "cell_type": "code",
   "execution_count": 24,
   "metadata": {},
   "outputs": [],
   "source": [
    "# Feature addition function\n",
    "def add_type1_features(df, timeframe):\n",
    "    df = stochastic_k(df, timeframe)\n",
    "    df = stochastic_d(df)  # Default as 3 \n",
    "    df = stochastic_sd(df) # Default as 3 \n",
    "    df = momentum(df, timeframe)\n",
    "    df = rate_of_change(df, timeframe)\n",
    "    df = larry_williams(df, timeframe)\n",
    "    df = ao_oscillator(df) # No timeframe\n",
    "    df = disparity(df, 5) # Default as 5 \n",
    "    df = disparity(df, 10) # Default as 10 \n",
    "    df = price_oscillator(df)\n",
    "    df = CCI(df, timeframe)\n",
    "    df = RSI(df, timeframe)\n",
    "    return df"
   ]
  },
  {
   "cell_type": "markdown",
   "metadata": {},
   "source": [
    "### TYPE 2 FEATURES"
   ]
  },
  {
   "cell_type": "code",
   "execution_count": 25,
   "metadata": {},
   "outputs": [],
   "source": [
    "# OBV\n",
    "def obv(df):\n",
    "    df['OBV'] = np.where(df['Close'] > df['Close'].shift(1), df['Volume'], np.where(df['Close'] < df['Close'].shift(1), -df['Volume'], 0)).cumsum()\n",
    "    return df"
   ]
  },
  {
   "cell_type": "code",
   "execution_count": 26,
   "metadata": {},
   "outputs": [],
   "source": [
    "# Moving Average\n",
    "def moving_average(df, timeframe):\n",
    "    return df.join(pd.Series(df['Close'].rolling(timeframe).sum()/timeframe, name='MA'))"
   ]
  },
  {
   "cell_type": "code",
   "execution_count": 27,
   "metadata": {},
   "outputs": [],
   "source": [
    "# BIAS \n",
    "def bias(df, timeframe):\n",
    "    return df.join(pd.Series(( (df['Close'] - (df['Close'].rolling(timeframe).sum()/timeframe) ) / (df['Close'].rolling(timeframe).sum()/timeframe) ) , name='BIAS' + str(timeframe)))"
   ]
  },
  {
   "cell_type": "code",
   "execution_count": 28,
   "metadata": {},
   "outputs": [],
   "source": [
    "# PSY - ratio of the number of rising periods over the n day period\n",
    "def psy(df, timeframe):    \n",
    "    df['A'] = np.where(df['Close'].shift(-1) - df['Close'] >0, 1, 0)\n",
    "    return df.join(round(pd.Series(df['A'].rolling(timeframe).sum()/timeframe * 100, name='PSY' + str(timeframe)),1)).drop(columns=['A'])"
   ]
  },
  {
   "cell_type": "code",
   "execution_count": 29,
   "metadata": {},
   "outputs": [],
   "source": [
    "# SY\n",
    "def sy(df):\n",
    "    return df.join(pd.Series((np.log(df['Close']) - np.log(df['Close'].shift(1))) * 100 , name='SY'))"
   ]
  },
  {
   "cell_type": "code",
   "execution_count": 30,
   "metadata": {},
   "outputs": [],
   "source": [
    "# ASY\n",
    "def asy(df, timeframe):\n",
    "    return df.join(pd.Series(df['SY'].rolling(timeframe).sum()/timeframe, name='ASY' + str(timeframe)))"
   ]
  },
  {
   "cell_type": "code",
   "execution_count": 31,
   "metadata": {},
   "outputs": [],
   "source": [
    "# Feature addition function\n",
    "def add_type2_features(df, timeframe):\n",
    "    df = obv(df)\n",
    "    df = moving_average(df, 5)\n",
    "    df = bias(df, 6) # Default value 6\n",
    "    df = psy(df, 12) # Default value 12\n",
    "    df = sy(df)\n",
    "    df = asy(df, 5) # Default value 5\n",
    "    df = asy(df, 4) # Default value 4\n",
    "    df = asy(df, 3) # Default value 3\n",
    "    df = asy(df, 2) # Default value 2\n",
    "    df = asy(df, 1) # Default value 1\n",
    "    df = df.drop(columns=['SY']) #USED ONLY FOR ASY CALCULATIONS\n",
    "    return df"
   ]
  },
  {
   "cell_type": "markdown",
   "metadata": {},
   "source": [
    "## STEP 1: LOAD DATA"
   ]
  },
  {
   "cell_type": "code",
   "execution_count": 32,
   "metadata": {},
   "outputs": [
    {
     "name": "stdout",
     "output_type": "stream",
     "text": [
      "NVDA\n",
      "[*********************100%***********************]  1 of 1 completed\n"
     ]
    }
   ],
   "source": [
    "source = fetch_yfinnace('NVDA', startDate='2019-01-08', endDate='2020-01-08', interval='1d')"
   ]
  },
  {
   "cell_type": "code",
   "execution_count": 33,
   "metadata": {},
   "outputs": [
    {
     "data": {
      "text/html": [
       "<div>\n",
       "<style scoped>\n",
       "    .dataframe tbody tr th:only-of-type {\n",
       "        vertical-align: middle;\n",
       "    }\n",
       "\n",
       "    .dataframe tbody tr th {\n",
       "        vertical-align: top;\n",
       "    }\n",
       "\n",
       "    .dataframe thead th {\n",
       "        text-align: right;\n",
       "    }\n",
       "</style>\n",
       "<table border=\"1\" class=\"dataframe\">\n",
       "  <thead>\n",
       "    <tr style=\"text-align: right;\">\n",
       "      <th></th>\n",
       "      <th>Open</th>\n",
       "      <th>High</th>\n",
       "      <th>Low</th>\n",
       "      <th>Close</th>\n",
       "      <th>Volume</th>\n",
       "    </tr>\n",
       "    <tr>\n",
       "      <th>Date</th>\n",
       "      <th></th>\n",
       "      <th></th>\n",
       "      <th></th>\n",
       "      <th></th>\n",
       "      <th></th>\n",
       "    </tr>\n",
       "  </thead>\n",
       "  <tbody>\n",
       "    <tr>\n",
       "      <th>2019-01-07</th>\n",
       "      <td>138.500000</td>\n",
       "      <td>144.889999</td>\n",
       "      <td>136.429993</td>\n",
       "      <td>143.399994</td>\n",
       "      <td>17729000</td>\n",
       "    </tr>\n",
       "    <tr>\n",
       "      <th>2019-01-08</th>\n",
       "      <td>146.690002</td>\n",
       "      <td>146.779999</td>\n",
       "      <td>136.899994</td>\n",
       "      <td>139.830002</td>\n",
       "      <td>19650400</td>\n",
       "    </tr>\n",
       "    <tr>\n",
       "      <th>2019-01-09</th>\n",
       "      <td>141.899994</td>\n",
       "      <td>144.490005</td>\n",
       "      <td>139.860001</td>\n",
       "      <td>142.580002</td>\n",
       "      <td>15431500</td>\n",
       "    </tr>\n",
       "    <tr>\n",
       "      <th>2019-01-10</th>\n",
       "      <td>141.800003</td>\n",
       "      <td>145.580002</td>\n",
       "      <td>139.360001</td>\n",
       "      <td>145.229996</td>\n",
       "      <td>13078900</td>\n",
       "    </tr>\n",
       "    <tr>\n",
       "      <th>2019-01-11</th>\n",
       "      <td>144.330002</td>\n",
       "      <td>149.750000</td>\n",
       "      <td>143.210007</td>\n",
       "      <td>148.830002</td>\n",
       "      <td>21869100</td>\n",
       "    </tr>\n",
       "  </tbody>\n",
       "</table>\n",
       "</div>"
      ],
      "text/plain": [
       "                  Open        High         Low       Close    Volume\n",
       "Date                                                                \n",
       "2019-01-07  138.500000  144.889999  136.429993  143.399994  17729000\n",
       "2019-01-08  146.690002  146.779999  136.899994  139.830002  19650400\n",
       "2019-01-09  141.899994  144.490005  139.860001  142.580002  15431500\n",
       "2019-01-10  141.800003  145.580002  139.360001  145.229996  13078900\n",
       "2019-01-11  144.330002  149.750000  143.210007  148.830002  21869100"
      ]
     },
     "execution_count": 33,
     "metadata": {},
     "output_type": "execute_result"
    }
   ],
   "source": [
    "source.head()"
   ]
  },
  {
   "cell_type": "code",
   "execution_count": 34,
   "metadata": {},
   "outputs": [
    {
     "data": {
      "text/plain": [
       "(253, 5)"
      ]
     },
     "execution_count": 34,
     "metadata": {},
     "output_type": "execute_result"
    }
   ],
   "source": [
    "# On average there are ~ 251 trading days per year, however, it might vary a little depending on the year.\n",
    "source.shape"
   ]
  },
  {
   "cell_type": "markdown",
   "metadata": {},
   "source": [
    "## STEP 2: ADD LABEL AND FEATURES"
   ]
  },
  {
   "cell_type": "code",
   "execution_count": 29,
   "metadata": {},
   "outputs": [],
   "source": [
    "data = create_label(source)\n",
    "data = add_type1_features(data, 14)\n",
    "data = add_type2_features(data, 14)\n",
    "data = data.dropna()"
   ]
  },
  {
   "cell_type": "code",
   "execution_count": 35,
   "metadata": {
    "scrolled": true
   },
   "outputs": [
    {
     "data": {
      "text/html": [
       "<div>\n",
       "<style scoped>\n",
       "    .dataframe tbody tr th:only-of-type {\n",
       "        vertical-align: middle;\n",
       "    }\n",
       "\n",
       "    .dataframe tbody tr th {\n",
       "        vertical-align: top;\n",
       "    }\n",
       "\n",
       "    .dataframe thead th {\n",
       "        text-align: right;\n",
       "    }\n",
       "</style>\n",
       "<table border=\"1\" class=\"dataframe\">\n",
       "  <thead>\n",
       "    <tr style=\"text-align: right;\">\n",
       "      <th></th>\n",
       "      <th>Open</th>\n",
       "      <th>High</th>\n",
       "      <th>Low</th>\n",
       "      <th>Close</th>\n",
       "      <th>Volume</th>\n",
       "      <th>Label</th>\n",
       "    </tr>\n",
       "    <tr>\n",
       "      <th>Date</th>\n",
       "      <th></th>\n",
       "      <th></th>\n",
       "      <th></th>\n",
       "      <th></th>\n",
       "      <th></th>\n",
       "      <th></th>\n",
       "    </tr>\n",
       "  </thead>\n",
       "  <tbody>\n",
       "    <tr>\n",
       "      <th>2019-01-07</th>\n",
       "      <td>138.500000</td>\n",
       "      <td>144.889999</td>\n",
       "      <td>136.429993</td>\n",
       "      <td>143.399994</td>\n",
       "      <td>17729000</td>\n",
       "      <td>139.830002</td>\n",
       "    </tr>\n",
       "    <tr>\n",
       "      <th>2019-01-08</th>\n",
       "      <td>146.690002</td>\n",
       "      <td>146.779999</td>\n",
       "      <td>136.899994</td>\n",
       "      <td>139.830002</td>\n",
       "      <td>19650400</td>\n",
       "      <td>142.580002</td>\n",
       "    </tr>\n",
       "    <tr>\n",
       "      <th>2019-01-09</th>\n",
       "      <td>141.899994</td>\n",
       "      <td>144.490005</td>\n",
       "      <td>139.860001</td>\n",
       "      <td>142.580002</td>\n",
       "      <td>15431500</td>\n",
       "      <td>145.229996</td>\n",
       "    </tr>\n",
       "    <tr>\n",
       "      <th>2019-01-10</th>\n",
       "      <td>141.800003</td>\n",
       "      <td>145.580002</td>\n",
       "      <td>139.360001</td>\n",
       "      <td>145.229996</td>\n",
       "      <td>13078900</td>\n",
       "      <td>148.830002</td>\n",
       "    </tr>\n",
       "    <tr>\n",
       "      <th>2019-01-11</th>\n",
       "      <td>144.330002</td>\n",
       "      <td>149.750000</td>\n",
       "      <td>143.210007</td>\n",
       "      <td>148.830002</td>\n",
       "      <td>21869100</td>\n",
       "      <td>150.440002</td>\n",
       "    </tr>\n",
       "  </tbody>\n",
       "</table>\n",
       "</div>"
      ],
      "text/plain": [
       "                  Open        High         Low       Close    Volume  \\\n",
       "Date                                                                   \n",
       "2019-01-07  138.500000  144.889999  136.429993  143.399994  17729000   \n",
       "2019-01-08  146.690002  146.779999  136.899994  139.830002  19650400   \n",
       "2019-01-09  141.899994  144.490005  139.860001  142.580002  15431500   \n",
       "2019-01-10  141.800003  145.580002  139.360001  145.229996  13078900   \n",
       "2019-01-11  144.330002  149.750000  143.210007  148.830002  21869100   \n",
       "\n",
       "                 Label  \n",
       "Date                    \n",
       "2019-01-07  139.830002  \n",
       "2019-01-08  142.580002  \n",
       "2019-01-09  145.229996  \n",
       "2019-01-10  148.830002  \n",
       "2019-01-11  150.440002  "
      ]
     },
     "execution_count": 35,
     "metadata": {},
     "output_type": "execute_result"
    }
   ],
   "source": [
    "data = create_label(source)\n",
    "data.head()"
   ]
  },
  {
   "cell_type": "markdown",
   "metadata": {},
   "source": [
    "## STEP 3: NORMALIZE AND SPLIT DATA"
   ]
  },
  {
   "cell_type": "code",
   "execution_count": 31,
   "metadata": {},
   "outputs": [],
   "source": [
    "x_train, x_test, y_train, y_test = split_data(.8, data, ['Label', 'Open', 'High', 'Low' , 'Volume', 'stocK', 'stocD',\n",
    "                                                         'stocSD','Momentum', 'ROC', 'LWR', 'AOosci', 'Disp5', 'Disp10', \n",
    "                                                         'OSCP', 'CCI', 'RSI', 'OBV', 'MA', 'BIAS6', 'PSY12', 'ASY5', \n",
    "                                                         'ASY4', 'ASY3', 'ASY2', 'ASY1'])"
   ]
  },
  {
   "cell_type": "code",
   "execution_count": 32,
   "metadata": {},
   "outputs": [],
   "source": [
    "x_train, x_test = MM_Scaler(x_train, x_test)"
   ]
  },
  {
   "cell_type": "code",
   "execution_count": 33,
   "metadata": {},
   "outputs": [],
   "source": [
    "# x_train, x_test = standardization(x_train, x_test)"
   ]
  },
  {
   "cell_type": "code",
   "execution_count": 34,
   "metadata": {},
   "outputs": [
    {
     "name": "stdout",
     "output_type": "stream",
     "text": [
      "[0.13655666] [0.94699363]\n"
     ]
    }
   ],
   "source": [
    "print(x_train[0], x_test[0])"
   ]
  },
  {
   "cell_type": "code",
   "execution_count": null,
   "metadata": {},
   "outputs": [],
   "source": []
  },
  {
   "cell_type": "code",
   "execution_count": null,
   "metadata": {},
   "outputs": [],
   "source": []
  },
  {
   "cell_type": "code",
   "execution_count": null,
   "metadata": {},
   "outputs": [],
   "source": []
  },
  {
   "cell_type": "code",
   "execution_count": null,
   "metadata": {},
   "outputs": [],
   "source": []
  },
  {
   "cell_type": "code",
   "execution_count": null,
   "metadata": {},
   "outputs": [],
   "source": []
  },
  {
   "cell_type": "code",
   "execution_count": null,
   "metadata": {},
   "outputs": [],
   "source": []
  },
  {
   "cell_type": "code",
   "execution_count": null,
   "metadata": {},
   "outputs": [],
   "source": []
  },
  {
   "cell_type": "code",
   "execution_count": null,
   "metadata": {},
   "outputs": [],
   "source": []
  },
  {
   "cell_type": "code",
   "execution_count": 5,
   "metadata": {},
   "outputs": [],
   "source": [
    "import yaml\n",
    "def load_yaml(path):\n",
    "    with open(path, mode='r') as file:\n",
    "        return yaml.load(file, Loader=yaml.FullLoader)\n",
    "    \n",
    "config = load_yaml('extra/dataextractor.yaml')"
   ]
  },
  {
   "cell_type": "code",
   "execution_count": 6,
   "metadata": {},
   "outputs": [
    {
     "data": {
      "text/plain": [
       "{'processing': {'resample': True,\n",
       "  'time': 'D',\n",
       "  'aggregate': {'Open': 'first',\n",
       "   'High': 'max',\n",
       "   'Low': 'min',\n",
       "   'Close': 'last',\n",
       "   'Volume': 'sum'},\n",
       "  'label': {'from': 'Close', 'shift': 1}},\n",
       " 'features': {'add': ['SK', 'SD', 'Momentum'],\n",
       "  'window': 14,\n",
       "  'filter': ['Close', 'Momentum', 'SD', 'Label']}}"
      ]
     },
     "execution_count": 6,
     "metadata": {},
     "output_type": "execute_result"
    }
   ],
   "source": [
    "config"
   ]
  },
  {
   "cell_type": "code",
   "execution_count": null,
   "metadata": {},
   "outputs": [],
   "source": []
  }
 ],
 "metadata": {
  "kernelspec": {
   "display_name": "Python 3",
   "language": "python",
   "name": "python3"
  },
  "language_info": {
   "codemirror_mode": {
    "name": "ipython",
    "version": 3
   },
   "file_extension": ".py",
   "mimetype": "text/x-python",
   "name": "python",
   "nbconvert_exporter": "python",
   "pygments_lexer": "ipython3",
   "version": "3.7.3"
  }
 },
 "nbformat": 4,
 "nbformat_minor": 4
}
