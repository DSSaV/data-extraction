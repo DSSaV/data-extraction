{
 "cells": [
  {
   "cell_type": "markdown",
   "metadata": {},
   "source": [
    "### Temporary yaml loader"
   ]
  },
  {
   "cell_type": "code",
   "execution_count": 15,
   "metadata": {},
   "outputs": [],
   "source": [
    "import yaml\n",
    "def load_yaml(path):\n",
    "    with open(path, mode='r') as file:\n",
    "        return yaml.load(file, Loader=yaml.FullLoader)\n",
    "    \n",
    "config = load_yaml('extra/dataextractor.yaml')"
   ]
  },
  {
   "cell_type": "code",
   "execution_count": 16,
   "metadata": {},
   "outputs": [
    {
     "data": {
      "text/plain": [
       "{'data': {'useyfinance': True,\n",
       "  'yfinance': {'stock': 'NVDA',\n",
       "   'start': datetime.date(2019, 1, 8),\n",
       "   'end': datetime.date(2020, 1, 8),\n",
       "   'interval': '1d'},\n",
       "  'binance': {'coin': 'BTCUSDT', 'interval': '1d'}},\n",
       " 'processing': {'resample': True,\n",
       "  'sampling': {'time': 'D',\n",
       "   'aggregate': {'Open': 'first',\n",
       "    'High': 'max',\n",
       "    'Low': 'min',\n",
       "    'Close': 'last',\n",
       "    'Volume': 'sum'}},\n",
       "  'label': {'source': 'Close', 'shift': -1}},\n",
       " 'features': {'window': 14,\n",
       "  'type': 0,\n",
       "  'filter': ['label',\n",
       "   'open',\n",
       "   'high',\n",
       "   'low',\n",
       "   'volume',\n",
       "   'stock',\n",
       "   'stocd',\n",
       "   'stocsd',\n",
       "   'momentum',\n",
       "   'roc',\n",
       "   'lwr',\n",
       "   'aoosci',\n",
       "   'disp5',\n",
       "   'disp10',\n",
       "   'oscp',\n",
       "   'cci',\n",
       "   'rsi',\n",
       "   'obv',\n",
       "   'ma',\n",
       "   'bias6',\n",
       "   'psy12',\n",
       "   'asy5',\n",
       "   'asy4',\n",
       "   'asy3',\n",
       "   'asy2',\n",
       "   'asy1']},\n",
       " 'split': {'scalername': 'MM',\n",
       "  'traintestpercentage': 0.8,\n",
       "  'traintestvalidate': {'train': 0.7, 'test': 0.15, 'validate': 0.15}}}"
      ]
     },
     "execution_count": 16,
     "metadata": {},
     "output_type": "execute_result"
    }
   ],
   "source": [
    "config"
   ]
  },
  {
   "cell_type": "markdown",
   "metadata": {},
   "source": [
    "### IMPORTS"
   ]
  },
  {
   "cell_type": "code",
   "execution_count": 17,
   "metadata": {},
   "outputs": [],
   "source": [
    "%run dataProcessing.ipynb\n",
    "%run dataFeatures.ipynb\n",
    "%run dataSplitScale.ipynb"
   ]
  },
  {
   "cell_type": "markdown",
   "metadata": {},
   "source": [
    "## STEP 1: Import data "
   ]
  },
  {
   "cell_type": "code",
   "execution_count": 18,
   "metadata": {},
   "outputs": [
    {
     "name": "stdout",
     "output_type": "stream",
     "text": [
      "[*********************100%***********************]  1 of 1 completed\n"
     ]
    }
   ],
   "source": [
    "df = get_data(config)"
   ]
  },
  {
   "cell_type": "code",
   "execution_count": 19,
   "metadata": {},
   "outputs": [
    {
     "data": {
      "text/html": [
       "<div>\n",
       "<style scoped>\n",
       "    .dataframe tbody tr th:only-of-type {\n",
       "        vertical-align: middle;\n",
       "    }\n",
       "\n",
       "    .dataframe tbody tr th {\n",
       "        vertical-align: top;\n",
       "    }\n",
       "\n",
       "    .dataframe thead th {\n",
       "        text-align: right;\n",
       "    }\n",
       "</style>\n",
       "<table border=\"1\" class=\"dataframe\">\n",
       "  <thead>\n",
       "    <tr style=\"text-align: right;\">\n",
       "      <th></th>\n",
       "      <th>Open</th>\n",
       "      <th>High</th>\n",
       "      <th>Low</th>\n",
       "      <th>Close</th>\n",
       "      <th>Volume</th>\n",
       "      <th>Label</th>\n",
       "    </tr>\n",
       "    <tr>\n",
       "      <th>Date</th>\n",
       "      <th></th>\n",
       "      <th></th>\n",
       "      <th></th>\n",
       "      <th></th>\n",
       "      <th></th>\n",
       "      <th></th>\n",
       "    </tr>\n",
       "  </thead>\n",
       "  <tbody>\n",
       "    <tr>\n",
       "      <th>2019-01-07</th>\n",
       "      <td>138.500000</td>\n",
       "      <td>144.889999</td>\n",
       "      <td>136.429993</td>\n",
       "      <td>143.399994</td>\n",
       "      <td>17729000</td>\n",
       "      <td>139.830002</td>\n",
       "    </tr>\n",
       "    <tr>\n",
       "      <th>2019-01-08</th>\n",
       "      <td>146.690002</td>\n",
       "      <td>146.779999</td>\n",
       "      <td>136.899994</td>\n",
       "      <td>139.830002</td>\n",
       "      <td>19650400</td>\n",
       "      <td>142.580002</td>\n",
       "    </tr>\n",
       "    <tr>\n",
       "      <th>2019-01-09</th>\n",
       "      <td>141.899994</td>\n",
       "      <td>144.490005</td>\n",
       "      <td>139.860001</td>\n",
       "      <td>142.580002</td>\n",
       "      <td>15431500</td>\n",
       "      <td>145.229996</td>\n",
       "    </tr>\n",
       "    <tr>\n",
       "      <th>2019-01-10</th>\n",
       "      <td>141.800003</td>\n",
       "      <td>145.580002</td>\n",
       "      <td>139.360001</td>\n",
       "      <td>145.229996</td>\n",
       "      <td>13078900</td>\n",
       "      <td>148.830002</td>\n",
       "    </tr>\n",
       "    <tr>\n",
       "      <th>2019-01-11</th>\n",
       "      <td>144.330002</td>\n",
       "      <td>149.750000</td>\n",
       "      <td>143.210007</td>\n",
       "      <td>148.830002</td>\n",
       "      <td>21869100</td>\n",
       "      <td>150.440002</td>\n",
       "    </tr>\n",
       "  </tbody>\n",
       "</table>\n",
       "</div>"
      ],
      "text/plain": [
       "                  Open        High         Low       Close    Volume  \\\n",
       "Date                                                                   \n",
       "2019-01-07  138.500000  144.889999  136.429993  143.399994  17729000   \n",
       "2019-01-08  146.690002  146.779999  136.899994  139.830002  19650400   \n",
       "2019-01-09  141.899994  144.490005  139.860001  142.580002  15431500   \n",
       "2019-01-10  141.800003  145.580002  139.360001  145.229996  13078900   \n",
       "2019-01-11  144.330002  149.750000  143.210007  148.830002  21869100   \n",
       "\n",
       "                 Label  \n",
       "Date                    \n",
       "2019-01-07  139.830002  \n",
       "2019-01-08  142.580002  \n",
       "2019-01-09  145.229996  \n",
       "2019-01-10  148.830002  \n",
       "2019-01-11  150.440002  "
      ]
     },
     "execution_count": 19,
     "metadata": {},
     "output_type": "execute_result"
    }
   ],
   "source": [
    "df.head(5)"
   ]
  },
  {
   "cell_type": "markdown",
   "metadata": {},
   "source": [
    "## STEP 2: Create features"
   ]
  },
  {
   "cell_type": "code",
   "execution_count": 20,
   "metadata": {},
   "outputs": [],
   "source": [
    "df = add_features(df, config['features'])"
   ]
  },
  {
   "cell_type": "code",
   "execution_count": 21,
   "metadata": {},
   "outputs": [
    {
     "data": {
      "text/html": [
       "<div>\n",
       "<style scoped>\n",
       "    .dataframe tbody tr th:only-of-type {\n",
       "        vertical-align: middle;\n",
       "    }\n",
       "\n",
       "    .dataframe tbody tr th {\n",
       "        vertical-align: top;\n",
       "    }\n",
       "\n",
       "    .dataframe thead th {\n",
       "        text-align: right;\n",
       "    }\n",
       "</style>\n",
       "<table border=\"1\" class=\"dataframe\">\n",
       "  <thead>\n",
       "    <tr style=\"text-align: right;\">\n",
       "      <th></th>\n",
       "      <th>label</th>\n",
       "      <th>open</th>\n",
       "      <th>high</th>\n",
       "      <th>low</th>\n",
       "      <th>volume</th>\n",
       "      <th>stock</th>\n",
       "      <th>stocd</th>\n",
       "      <th>stocsd</th>\n",
       "      <th>momentum</th>\n",
       "      <th>roc</th>\n",
       "      <th>...</th>\n",
       "      <th>rsi</th>\n",
       "      <th>obv</th>\n",
       "      <th>ma</th>\n",
       "      <th>bias6</th>\n",
       "      <th>psy12</th>\n",
       "      <th>asy5</th>\n",
       "      <th>asy4</th>\n",
       "      <th>asy3</th>\n",
       "      <th>asy2</th>\n",
       "      <th>asy1</th>\n",
       "    </tr>\n",
       "    <tr>\n",
       "      <th>Date</th>\n",
       "      <th></th>\n",
       "      <th></th>\n",
       "      <th></th>\n",
       "      <th></th>\n",
       "      <th></th>\n",
       "      <th></th>\n",
       "      <th></th>\n",
       "      <th></th>\n",
       "      <th></th>\n",
       "      <th></th>\n",
       "      <th></th>\n",
       "      <th></th>\n",
       "      <th></th>\n",
       "      <th></th>\n",
       "      <th></th>\n",
       "      <th></th>\n",
       "      <th></th>\n",
       "      <th></th>\n",
       "      <th></th>\n",
       "      <th></th>\n",
       "      <th></th>\n",
       "    </tr>\n",
       "  </thead>\n",
       "  <tbody>\n",
       "    <tr>\n",
       "      <th>2019-01-31</th>\n",
       "      <td>144.729996</td>\n",
       "      <td>137.259995</td>\n",
       "      <td>145.190002</td>\n",
       "      <td>136.380005</td>\n",
       "      <td>21071300</td>\n",
       "      <td>42.670676</td>\n",
       "      <td>22.021422</td>\n",
       "      <td>26.155683</td>\n",
       "      <td>-1.479996</td>\n",
       "      <td>-1.019070</td>\n",
       "      <td>...</td>\n",
       "      <td>48.256657</td>\n",
       "      <td>49040500</td>\n",
       "      <td>142.179999</td>\n",
       "      <td>-0.007183</td>\n",
       "      <td>66.7</td>\n",
       "      <td>-1.870123</td>\n",
       "      <td>-2.700879</td>\n",
       "      <td>1.358319</td>\n",
       "      <td>4.415431</td>\n",
       "      <td>4.525209</td>\n",
       "    </tr>\n",
       "    <tr>\n",
       "      <th>2019-02-01</th>\n",
       "      <td>149.179993</td>\n",
       "      <td>144.500000</td>\n",
       "      <td>146.789993</td>\n",
       "      <td>142.580002</td>\n",
       "      <td>15626200</td>\n",
       "      <td>45.950447</td>\n",
       "      <td>36.668886</td>\n",
       "      <td>24.769444</td>\n",
       "      <td>-4.100006</td>\n",
       "      <td>-2.754825</td>\n",
       "      <td>...</td>\n",
       "      <td>49.183378</td>\n",
       "      <td>64666700</td>\n",
       "      <td>139.095999</td>\n",
       "      <td>0.014901</td>\n",
       "      <td>75.0</td>\n",
       "      <td>-2.024819</td>\n",
       "      <td>1.188595</td>\n",
       "      <td>3.170095</td>\n",
       "      <td>2.602316</td>\n",
       "      <td>0.679423</td>\n",
       "    </tr>\n",
       "    <tr>\n",
       "      <th>2019-02-04</th>\n",
       "      <td>149.949997</td>\n",
       "      <td>145.369995</td>\n",
       "      <td>150.679993</td>\n",
       "      <td>144.479996</td>\n",
       "      <td>13214800</td>\n",
       "      <td>60.843339</td>\n",
       "      <td>49.821487</td>\n",
       "      <td>36.170598</td>\n",
       "      <td>-1.260010</td>\n",
       "      <td>-0.837550</td>\n",
       "      <td>...</td>\n",
       "      <td>53.275596</td>\n",
       "      <td>77881500</td>\n",
       "      <td>141.329999</td>\n",
       "      <td>0.059693</td>\n",
       "      <td>75.0</td>\n",
       "      <td>1.556549</td>\n",
       "      <td>3.134663</td>\n",
       "      <td>2.744333</td>\n",
       "      <td>1.853895</td>\n",
       "      <td>3.028367</td>\n",
       "    </tr>\n",
       "    <tr>\n",
       "      <th>2019-02-05</th>\n",
       "      <td>153.000000</td>\n",
       "      <td>149.660004</td>\n",
       "      <td>151.429993</td>\n",
       "      <td>148.300003</td>\n",
       "      <td>13560600</td>\n",
       "      <td>63.420327</td>\n",
       "      <td>56.738038</td>\n",
       "      <td>47.742804</td>\n",
       "      <td>0.080002</td>\n",
       "      <td>0.053381</td>\n",
       "      <td>...</td>\n",
       "      <td>53.966386</td>\n",
       "      <td>91442100</td>\n",
       "      <td>144.999997</td>\n",
       "      <td>0.050315</td>\n",
       "      <td>75.0</td>\n",
       "      <td>2.610696</td>\n",
       "      <td>2.186957</td>\n",
       "      <td>1.407540</td>\n",
       "      <td>1.771599</td>\n",
       "      <td>0.514830</td>\n",
       "    </tr>\n",
       "    <tr>\n",
       "      <th>2019-02-06</th>\n",
       "      <td>147.419998</td>\n",
       "      <td>151.289993</td>\n",
       "      <td>155.600006</td>\n",
       "      <td>151.070007</td>\n",
       "      <td>17561600</td>\n",
       "      <td>73.627833</td>\n",
       "      <td>65.963833</td>\n",
       "      <td>57.507786</td>\n",
       "      <td>4.160004</td>\n",
       "      <td>2.794950</td>\n",
       "      <td>...</td>\n",
       "      <td>56.697306</td>\n",
       "      <td>109003700</td>\n",
       "      <td>148.121997</td>\n",
       "      <td>0.045558</td>\n",
       "      <td>75.0</td>\n",
       "      <td>2.152287</td>\n",
       "      <td>1.559056</td>\n",
       "      <td>1.852267</td>\n",
       "      <td>1.264217</td>\n",
       "      <td>2.013604</td>\n",
       "    </tr>\n",
       "  </tbody>\n",
       "</table>\n",
       "<p>5 rows × 26 columns</p>\n",
       "</div>"
      ],
      "text/plain": [
       "                 label        open        high         low    volume  \\\n",
       "Date                                                                   \n",
       "2019-01-31  144.729996  137.259995  145.190002  136.380005  21071300   \n",
       "2019-02-01  149.179993  144.500000  146.789993  142.580002  15626200   \n",
       "2019-02-04  149.949997  145.369995  150.679993  144.479996  13214800   \n",
       "2019-02-05  153.000000  149.660004  151.429993  148.300003  13560600   \n",
       "2019-02-06  147.419998  151.289993  155.600006  151.070007  17561600   \n",
       "\n",
       "                stock      stocd     stocsd  momentum       roc  ...  \\\n",
       "Date                                                             ...   \n",
       "2019-01-31  42.670676  22.021422  26.155683 -1.479996 -1.019070  ...   \n",
       "2019-02-01  45.950447  36.668886  24.769444 -4.100006 -2.754825  ...   \n",
       "2019-02-04  60.843339  49.821487  36.170598 -1.260010 -0.837550  ...   \n",
       "2019-02-05  63.420327  56.738038  47.742804  0.080002  0.053381  ...   \n",
       "2019-02-06  73.627833  65.963833  57.507786  4.160004  2.794950  ...   \n",
       "\n",
       "                  rsi        obv          ma     bias6  psy12      asy5  \\\n",
       "Date                                                                      \n",
       "2019-01-31  48.256657   49040500  142.179999 -0.007183   66.7 -1.870123   \n",
       "2019-02-01  49.183378   64666700  139.095999  0.014901   75.0 -2.024819   \n",
       "2019-02-04  53.275596   77881500  141.329999  0.059693   75.0  1.556549   \n",
       "2019-02-05  53.966386   91442100  144.999997  0.050315   75.0  2.610696   \n",
       "2019-02-06  56.697306  109003700  148.121997  0.045558   75.0  2.152287   \n",
       "\n",
       "                asy4      asy3      asy2      asy1  \n",
       "Date                                                \n",
       "2019-01-31 -2.700879  1.358319  4.415431  4.525209  \n",
       "2019-02-01  1.188595  3.170095  2.602316  0.679423  \n",
       "2019-02-04  3.134663  2.744333  1.853895  3.028367  \n",
       "2019-02-05  2.186957  1.407540  1.771599  0.514830  \n",
       "2019-02-06  1.559056  1.852267  1.264217  2.013604  \n",
       "\n",
       "[5 rows x 26 columns]"
      ]
     },
     "execution_count": 21,
     "metadata": {},
     "output_type": "execute_result"
    }
   ],
   "source": [
    "df.head(5)"
   ]
  },
  {
   "cell_type": "markdown",
   "metadata": {},
   "source": [
    "## STEP 3: SPLIT DATA"
   ]
  },
  {
   "cell_type": "code",
   "execution_count": 22,
   "metadata": {},
   "outputs": [],
   "source": [
    "x_train, x_test, y_train, y_test, scaler = train_test_split(df, config['split'])"
   ]
  },
  {
   "cell_type": "code",
   "execution_count": 23,
   "metadata": {},
   "outputs": [],
   "source": [
    "x_train, x_test, x_validate, y_train, y_test, y_validate, scaler = train_test_validate_split(df, config['split'])"
   ]
  },
  {
   "cell_type": "code",
   "execution_count": 24,
   "metadata": {},
   "outputs": [
    {
     "data": {
      "text/plain": [
       "MinMaxScaler(copy=True, feature_range=(0, 1))"
      ]
     },
     "execution_count": 24,
     "metadata": {},
     "output_type": "execute_result"
    }
   ],
   "source": [
    "scaler"
   ]
  },
  {
   "cell_type": "code",
   "execution_count": 25,
   "metadata": {},
   "outputs": [
    {
     "data": {
      "text/plain": [
       "array([[0.02360536, 0.13785716, 0.06624604, ..., 0.63363034, 0.78173289,\n",
       "        0.81884541],\n",
       "       [0.15020101, 0.16642843, 0.17490354, ..., 0.85857761, 0.62237113,\n",
       "        0.53754429],\n",
       "       [0.16541338, 0.2358927 , 0.20820172, ..., 0.80571568, 0.55658951,\n",
       "        0.70935851],\n",
       "       ...,\n",
       "       [0.71673349, 0.72107152, 0.69540824, ..., 0.2688726 , 0.21193324,\n",
       "        0.31001241],\n",
       "       [0.64329414, 0.69999995, 0.70014018, ..., 0.3450694 , 0.34117314,\n",
       "        0.57835151],\n",
       "       [0.70274525, 0.71107129, 0.67472838, ..., 0.36052664, 0.38956969,\n",
       "        0.39056359]])"
      ]
     },
     "execution_count": 25,
     "metadata": {},
     "output_type": "execute_result"
    }
   ],
   "source": [
    "x_train"
   ]
  },
  {
   "cell_type": "code",
   "execution_count": 26,
   "metadata": {},
   "outputs": [
    {
     "data": {
      "text/plain": [
       "array([0.18775713, 0.26406022, 0.27726331, 0.32956102, 0.23388199,\n",
       "       0.24674207, 0.2172496 , 0.29818239, 0.32750349, 0.35579557,\n",
       "       0.40397796, 0.39197527, 0.42472567, 0.37705766, 0.4356996 ,\n",
       "       0.42712621, 0.3998629 , 0.37088481, 0.35116586, 0.38871734,\n",
       "       0.39437581, 0.38991774, 0.31327164, 0.26543199, 0.28909462,\n",
       "       0.46913575, 0.49279839, 0.59739355, 0.54492446, 0.61779826,\n",
       "       0.60305202, 0.71896438, 0.69650189, 0.86008226, 0.74965699,\n",
       "       0.68587097, 0.73885444, 0.73251022, 0.7453703 , 0.7849793 ,\n",
       "       0.83161855, 0.84396425, 0.94032904, 0.93415619, 0.98028105,\n",
       "       0.99468428, 0.95130296, 1.        , 0.99039759, 0.96416304,\n",
       "       0.87311371, 0.93329906, 0.9175238 , 0.90054866, 0.93775713,\n",
       "       0.97547998, 0.98405336, 0.9110082 , 0.75977353, 0.78103562,\n",
       "       0.8096707 , 0.80058293, 0.84722218, 0.84413562, 0.78995202,\n",
       "       0.67438266, 0.68827151, 0.62431411, 0.60082312, 0.42301089,\n",
       "       0.48456775, 0.44238683, 0.45284637, 0.39008911, 0.30812755,\n",
       "       0.36488334, 0.31584355, 0.23216747, 0.19495874, 0.16375175,\n",
       "       0.1124828 , 0.09139234, 0.02880672, 0.        , 0.15809328,\n",
       "       0.12860081, 0.17146774, 0.20096022, 0.25120014, 0.29098078,\n",
       "       0.2129629 , 0.24828522, 0.18621398, 0.19290121, 0.32750349,\n",
       "       0.33161855, 0.34842258, 0.30829893, 0.32373118, 0.30349785,\n",
       "       0.43689973, 0.50497245, 0.52211922, 0.55538401, 0.48782568,\n",
       "       0.49674207, 0.45353213, 0.40174906, 0.40346358, 0.45061721,\n",
       "       0.55727016, 0.5800754 , 0.57424556, 0.57098763, 0.61608373,\n",
       "       0.62414248, 0.59430726, 0.64369005, 0.71810699, 0.76954731,\n",
       "       0.67901237, 0.70799046, 0.70370376, 0.71450605, 0.59910833,\n",
       "       0.53395054, 0.46999315, 0.29166654, 0.31841572, 0.34482164,\n",
       "       0.41975296, 0.34979409, 0.30298347, 0.38185874, 0.2793211 ,\n",
       "       0.25703024, 0.44204382, 0.63443065, 0.58453347, 0.64214664,\n",
       "       0.64643334, 0.49142661, 0.54303831, 0.48045269, 0.47050753,\n",
       "       0.56961586, 0.57836062, 0.52109046, 0.59979409, 0.78806586,\n",
       "       0.76937568, 0.80109731, 0.84705054, 0.86676949, 0.86574073,\n",
       "       0.82578871, 0.79612486, 0.8108711 , 0.79218092, 0.74005484,\n",
       "       0.66718105, 0.70404651, 0.6644375 , 0.76217406])"
      ]
     },
     "execution_count": 26,
     "metadata": {},
     "output_type": "execute_result"
    }
   ],
   "source": [
    "y_train"
   ]
  },
  {
   "cell_type": "code",
   "execution_count": null,
   "metadata": {},
   "outputs": [],
   "source": []
  },
  {
   "cell_type": "code",
   "execution_count": null,
   "metadata": {},
   "outputs": [],
   "source": []
  }
 ],
 "metadata": {
  "kernelspec": {
   "display_name": "Python 3",
   "language": "python",
   "name": "python3"
  },
  "language_info": {
   "codemirror_mode": {
    "name": "ipython",
    "version": 3
   },
   "file_extension": ".py",
   "mimetype": "text/x-python",
   "name": "python",
   "nbconvert_exporter": "python",
   "pygments_lexer": "ipython3",
   "version": "3.7.3"
  }
 },
 "nbformat": 4,
 "nbformat_minor": 2
}
